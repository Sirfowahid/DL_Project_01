{
  "nbformat": 4,
  "nbformat_minor": 0,
  "metadata": {
    "colab": {
      "provenance": [],
      "authorship_tag": "ABX9TyON4J4avIYrXFKGyxOHWfFA",
      "include_colab_link": true
    },
    "kernelspec": {
      "name": "python3",
      "display_name": "Python 3"
    },
    "language_info": {
      "name": "python"
    }
  },
  "cells": [
    {
      "cell_type": "markdown",
      "metadata": {
        "id": "view-in-github",
        "colab_type": "text"
      },
      "source": [
        "<a href=\"https://colab.research.google.com/github/Sirfowahid/DL_Project_01/blob/main/Untitled0.ipynb\" target=\"_parent\"><img src=\"https://colab.research.google.com/assets/colab-badge.svg\" alt=\"Open In Colab\"/></a>"
      ]
    },
    {
      "cell_type": "code",
      "execution_count": 5,
      "metadata": {
        "id": "URBY4zglPmTK"
      },
      "outputs": [],
      "source": [
        "import torch\n",
        "import torch.nn as nn\n",
        "import torch.nn.functional as F\n",
        "import numpy as np\n",
        "import matplotlib.pyplot as plt\n",
        "from IPython import display\n",
        "display.set_matplotlib_formats('svg')"
      ]
    },
    {
      "cell_type": "code",
      "source": [
        "N = 2000\n",
        "data = torch.randint(low=-10,high=11,size=(N,2)).float()\n",
        "labels = torch.sum(data,axis=1,keepdim=True)"
      ],
      "metadata": {
        "id": "B3H0UYolQCXT"
      },
      "execution_count": 6,
      "outputs": []
    },
    {
      "cell_type": "code",
      "source": [
        "def createModel():\n",
        "  class Regressor(nn.Module):\n",
        "    def __init__(self):\n",
        "      super().__init__()\n",
        "      self.input = nn.Linear(2,32)\n",
        "      self.fc = nn.Linear(32,16)\n",
        "      self.output = nn.Linear(16,1)\n",
        "    \n",
        "    def forward(self,x):\n",
        "      x = F.relu(self.input(x))\n",
        "      x = F.relu(self.fc(x))\n",
        "      return self.output(x)\n",
        "  \n",
        "  model = Regressor()\n",
        "  lossfun = nn.MSELoss()\n",
        "  optimizer = torch.optim.Adam(model.parameters(),lr=0.05)\n",
        "  return model,lossfun,optimizer"
      ],
      "metadata": {
        "id": "DRiitpftRisk"
      },
      "execution_count": 7,
      "outputs": []
    },
    {
      "cell_type": "code",
      "source": [
        "def trainModel():\n",
        "  model,lossfun,optimizer = createModel()\n",
        "  numepochs = 25\n",
        "  losses = torch.zeros(numepochs)\n",
        "  for epochi in range(numepochs):\n",
        "    batchLoss = []\n",
        "\n",
        "    for X,y in zip(data,labels):\n",
        "      yHat = model(data)\n",
        "      loss = lossfun(yHat,y)\n",
        "      batchLoss.append(loss.item())\n",
        "      optimizer.zero_grad()\n",
        "      loss.backward()\n",
        "      optimizer.step()\n",
        "    losses[epochi] = np.mean(batchLoss)\n",
        "  with torch.no_grad():\n",
        "    preds = model(data)\n",
        "  trainAcc = 100*torch.mean((np.abs(preds-labels)<1).float())\n",
        "  TestData = torch.randint(low=-10,high=11,size=(N,2)).float()\n",
        "  TestLabels = torch.sum(TestData,axis=1,keepdim=True)\n",
        "  with torch.no_grad():\n",
        "    TestPreds = model(TestData)\n",
        "  testAcc = 100*torch.mean((np.abs(TestPreds-TestLabels)<1).float())\n",
        "\n",
        "  return model,losses,trainAcc,testAcc  "
      ],
      "metadata": {
        "id": "19cjYIv-S-pK"
      },
      "execution_count": 8,
      "outputs": []
    },
    {
      "cell_type": "code",
      "source": [
        "model,losses,trainAcc,testAcc = trainModel()"
      ],
      "metadata": {
        "colab": {
          "base_uri": "https://localhost:8080/"
        },
        "id": "dF-RNkvZb-C_",
        "outputId": "26c65199-a1c7-4bd0-d9ba-dbfac1f526ca"
      },
      "execution_count": null,
      "outputs": [
        {
          "output_type": "stream",
          "name": "stderr",
          "text": [
            "/usr/local/lib/python3.8/dist-packages/torch/nn/modules/loss.py:536: UserWarning: Using a target size (torch.Size([1])) that is different to the input size (torch.Size([2000, 1])). This will likely lead to incorrect results due to broadcasting. Please ensure they have the same size.\n",
            "  return F.mse_loss(input, target, reduction=self.reduction)\n"
          ]
        }
      ]
    },
    {
      "cell_type": "code",
      "source": [
        "plt.plot(losses)\n",
        "plt.show()"
      ],
      "metadata": {
        "id": "CNRYp31rcozu"
      },
      "execution_count": null,
      "outputs": []
    },
    {
      "cell_type": "code",
      "source": [
        "def createModel():\n",
        "  class Regressor(nn.Module):\n",
        "    def __init__(self):\n",
        "      super().__init__()\n",
        "      self.input = nn.Linear(2,32)\n",
        "      self.fc = nn.Linear(32,32)\n",
        "      self.output = nn.Linear(32,1)\n",
        "    \n",
        "    def forward(self,x):\n",
        "      x = F.relu(self.input(x))\n",
        "      x = F.relu(self.fc(x))\n",
        "      return self.output(x)\n",
        "  \n",
        "  model = Regressor()\n",
        "  lossfun = nn.MSELoss()\n",
        "  optimizer = torch.optim.Adam(model.parameters(),lr=0.005)\n",
        "  return model,lossfun,optimizer"
      ],
      "metadata": {
        "id": "5KDPBWzXhosN"
      },
      "execution_count": null,
      "outputs": []
    },
    {
      "cell_type": "code",
      "source": [
        "def trainModel():\n",
        "  model,lossfun,optimizer = createModel()\n",
        "  numepochs = 30\n",
        "  losses = torch.zeros(numepochs)\n",
        "  for epochi in range(numepochs):\n",
        "    batchLoss = []\n",
        "\n",
        "    for X,y in zip(data,labels):\n",
        "      yHat = model(data)\n",
        "      loss = lossfun(yHat,y)\n",
        "      batchLoss.append(loss.item())\n",
        "      optimizer.zero_grad()\n",
        "      loss.backward()\n",
        "      optimizer.step()\n",
        "    losses[epochi] = np.mean(batchLoss)\n",
        "  with torch.no_grad():\n",
        "    preds = model(data)\n",
        "  trainAcc = 100*torch.mean((np.abs(preds-labels)<1).float())\n",
        "  TestData = torch.randint(low=-10,high=11,size=(N,2)).float()\n",
        "  TestLabels = torch.sum(TestData,axis=1,keepdim=True)\n",
        "  with torch.no_grad():\n",
        "    TestPreds = model(TestData)\n",
        "  testAcc = 100*torch.mean((np.abs(TestPreds-TestLabels)<1).float())\n",
        "\n",
        "  return model,losses,trainAcc,testAcc  "
      ],
      "metadata": {
        "id": "iHnOyZwPyhvv"
      },
      "execution_count": null,
      "outputs": []
    },
    {
      "cell_type": "code",
      "source": [
        "model,losses,trainAcc,testAcc = trainModel()"
      ],
      "metadata": {
        "id": "8M7AEPWVymCp"
      },
      "execution_count": null,
      "outputs": []
    },
    {
      "cell_type": "code",
      "source": [
        "plt.plot(losses)\n",
        "plt.show()"
      ],
      "metadata": {
        "id": "yyOu5Kr2ypJW"
      },
      "execution_count": null,
      "outputs": []
    },
    {
      "cell_type": "code",
      "source": [],
      "metadata": {
        "id": "81seNxSMywwh"
      },
      "execution_count": null,
      "outputs": []
    }
  ]
}